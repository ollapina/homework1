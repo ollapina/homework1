{
 "cells": [
  {
   "cell_type": "markdown",
   "metadata": {},
   "source": [
    "**Задание 1**. Даны 2 строки: *long_phrase* и *short_phrase*. \n",
    "Напишите код, который проверяет действительно ли длинная фраза *long_phrase* длиннее короткой *short_phrase*. И выводит *True* или *False* в зависимости от результата сравнения."
   ]
  },
  {
   "cell_type": "code",
   "execution_count": 2,
   "metadata": {},
   "outputs": [],
   "source": [
    "long_phrase = 'Насколько проще было бы писать программы, если бы не заказчики'\n",
    "short_phrase = '640Кб должно хватить для любых задач. Билл Гейтс (по легенде)'"
   ]
  },
  {
   "cell_type": "code",
   "execution_count": 4,
   "metadata": {},
   "outputs": [
    {
     "name": "stdout",
     "output_type": "stream",
     "text": [
      "True\n"
     ]
    }
   ],
   "source": [
    "print(len(long_phrase) > len(short_phrase))"
   ]
  },
  {
   "cell_type": "markdown",
   "metadata": {},
   "source": [
    "**Задание 2**. Дано значение объема файла в байтах. Напишите перевод этого значения в мегабайты в формате: \"*Объем файла равен 213.68Mb*\""
   ]
  },
  {
   "cell_type": "code",
   "execution_count": 8,
   "metadata": {},
   "outputs": [
    {
     "name": "stdout",
     "output_type": "stream",
     "text": [
      "Объем файла равен 10.0 Mb\n"
     ]
    }
   ],
   "source": [
    "x = 10485760\n",
    "y = x / 1048576\n",
    "print('Объем файла равен',y,'Mb')"
   ]
  },
  {
   "cell_type": "markdown",
   "metadata": {},
   "source": [
    "# **Задание 3**. Разработать приложение для определения знака зодиака по дате рождения. Пример:\n",
    "\n",
    "Введите месяц: март\n",
    "\n",
    "Введите число: 6\n",
    "\n",
    "Вывод:\n",
    "Рыбы"
   ]
  },
  {
   "cell_type": "code",
   "execution_count": 12,
   "metadata": {},
   "outputs": [
    {
     "name": "stdout",
     "output_type": "stream",
     "text": [
      "Введите месяцфевраль\n",
      "Введите число29\n"
     ]
    }
   ],
   "source": [
    "month = input('Введите месяц')\n",
    "number = int(input('Введите число'))"
   ]
  },
  {
   "cell_type": "code",
   "execution_count": 13,
   "metadata": {},
   "outputs": [
    {
     "name": "stdout",
     "output_type": "stream",
     "text": [
      "Рыбы\n"
     ]
    }
   ],
   "source": [
    "if (month == 'январь' and 1 <= number < 21) or (month == 12 and 21 < number <= 31):\n",
    "    print('Козерог')\n",
    "elif (month == 'февраль' and 1 <= number < 21) or (month == 'январь' and 20 < number <= 31):\n",
    "    print('Водолей')\n",
    "elif (month == 'март' and 1 <= number < 21) or (month == 'февраль' and 20 < number <= 29):\n",
    "    print('Рыбы')\n",
    "elif (month == 'апрель' and 1 <= number < 21) or (month == 'март' and 20 < number <= 31):\n",
    "    print('Овен')\n",
    "elif (month == 'май' and 1 <= number < 21) or (month == 'апрель' and 20 < number <= 31):\n",
    "    print('Телец')\n",
    "elif (month == 'июнь' and 1 <= number < 22) or (month == 'май' and 20 < number <= 31):\n",
    "    print('Близнецы')\n",
    "elif (month == 'июль' and 1 <= number < 23) or (month == 'июнь' and 21 < number <= 31):\n",
    "    print('Рак')\n",
    "elif (month == 'август' and 1 <= number < 24) or (month == 'июль' and 22 < number <= 31):\n",
    "    print('Лев')\n",
    "elif (month == 'сентябрь' and 1 <= number < 24) or (month == 'август' and 23 < number <= 31):\n",
    "    print('Дева')\n",
    "elif (month == 'октябрь' and 1 <= number < 24) or (month == 'сентябрь' and 23 < number <= 31):\n",
    "    print('Весы')\n",
    "elif (month == 'ноябрь' and 1 <= number < 23) or (month == 'октябрь' and 23 < number <= 31):\n",
    "    print('Скорпион')\n",
    "elif (month == 'декабрь' and 1 <= number < 22) or (month == 'ноябрь' and 22 < number <= 31):\n",
    "    print('Стрелец')"
   ]
  },
  {
   "cell_type": "markdown",
   "metadata": {},
   "source": [
    "**Задание 4**. Нужно разработать приложение для финансового планирования.\n",
    "Приложение учитывает сколько уходит на ипотеку, \"на жизнь\" и сколько нужно отложить на пенсию.\n",
    "Пользователь вводит:\n",
    "- заработанную плату в месяц.\n",
    "- сколько процентов от ЗП уходит на ипотеку.\n",
    "- сколько процентов от ЗП уходит \"на жизнь\".\n",
    "- сколько раз приходит премия в год.\n",
    "\n",
    "Остальная часть заработанной платы откладывается на пенсию.\n",
    "\n",
    "Также пользователю приходит премия в размере зарплаты, от которой половина уходит на отпуск, а вторая половина откладывается.\n",
    "\n",
    "Программа должна учитывать сколько премий было в год.\n",
    "\n",
    "Нужно вывести сколько денег тратит пользователь на ипотеку и сколько он накопит за год.\n",
    "\n",
    "Пример:\n",
    "\n",
    "Введите заработанную плату в месяц: 100000\n",
    "\n",
    "Введите сколько процентов уходит на ипотеку: 30\n",
    "\n",
    "Введите сколько процентов уходит на жизнь: 50\n",
    "\n",
    "Введите количество премий за год: 2\n",
    "\n",
    "Вывод:\n",
    "На ипотеку было потрачено: 360000 рублей\n",
    "Было накоплено: 340000 рублей"
   ]
  },
  {
   "cell_type": "code",
   "execution_count": 32,
   "metadata": {},
   "outputs": [
    {
     "name": "stdout",
     "output_type": "stream",
     "text": [
      "Введите заработанную плату в месяц100000\n",
      "Введите сколько процентов уходит на ипотеку30\n",
      "Введите сколько процентов уходит на жизнь60\n",
      "Введите количество премий за год1\n"
     ]
    }
   ],
   "source": [
    "salary_month = int(input('Введите заработанную плату в месяц'))\n",
    "mortgage_percent = int(input('Введите сколько процентов уходит на ипотеку'))\n",
    "expenses_percent = int(input('Введите сколько процентов уходит на жизнь'))\n",
    "bonus_quantity = int(input('Введите количество премий за год'))"
   ]
  },
  {
   "cell_type": "code",
   "execution_count": 35,
   "metadata": {},
   "outputs": [
    {
     "name": "stdout",
     "output_type": "stream",
     "text": [
      "На ипотеку было потрачено: 360000 рублей. Было накоплено: 170000 рублей.\n"
     ]
    }
   ],
   "source": [
    "bonus_sum = salary_month\n",
    "mortgage_year = int((salary_month * mortgage_percent / 100) * 12)\n",
    "saved_year = int((salary_month - mortgage_month - salary_month * expenses_percent / 100) * 12 + bonus_sum / 2 * bonus_quantity)\n",
    "print('На ипотеку было потрачено:',mortgage_year,'рублей.', 'Было накоплено:',saved_year,'рублей.')"
   ]
  }
 ],
 "metadata": {
  "kernelspec": {
   "display_name": "Python 3",
   "language": "python",
   "name": "python3"
  },
  "language_info": {
   "codemirror_mode": {
    "name": "ipython",
    "version": 3
   },
   "file_extension": ".py",
   "mimetype": "text/x-python",
   "name": "python",
   "nbconvert_exporter": "python",
   "pygments_lexer": "ipython3",
   "version": "3.7.4"
  }
 },
 "nbformat": 4,
 "nbformat_minor": 2
}
